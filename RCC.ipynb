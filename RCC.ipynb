{
 "cells": [
  {
   "cell_type": "code",
   "execution_count": 7,
   "metadata": {},
   "outputs": [
    {
     "name": "stdout",
     "output_type": "stream",
     "text": [
      "The value of username is 0.0\n",
      "The value of password is 0.0\n",
      "The value of username is 0.0\n",
      "The value of password is 0.0\n",
      "The value of username is 0.0\n",
      "The value of password is 0.0\n",
      "The value of username is 0.0\n",
      "The value of password is 0.0\n",
      "The value of username is 0.0\n",
      "The value of password is \n"
     ]
    }
   ],
   "source": [
    "from tkinter import *\n",
    "\n",
    "def getvals():\n",
    "    \n",
    "    print(f\"The value of username is {uservalue1.get()}\")\n",
    "    print(f\"The value of password is {uservalue2.get()}\")\n",
    "    print(f\"The value of username is {uservalue3.get()}\")\n",
    "    print(f\"The value of password is {uservalue4.get()}\")\n",
    "    print(f\"The value of username is {uservalue5.get()}\")\n",
    "    print(f\"The value of password is {uservalue6.get()}\")\n",
    "    print(f\"The value of username is {uservalue7.get()}\")\n",
    "    print(f\"The value of password is {uservalue8.get()}\")\n",
    "    print(f\"The value of username is {uservalue9.get()}\")\n",
    "    print(f\"The value of password is {uservalue10.get()}\")\n",
    "    user11 = Label(root, text=\"Values taken and the result is saved in LSM.txt file\").grid(row=17,column = 2)\n",
    "    \n",
    "    \n",
    "\n",
    "\n",
    "\n",
    "root = Tk()\n",
    "root.wm_iconbitmap('ib.ico')\n",
    "root.geometry(\"655x333\")\n",
    "root.title(\"RCC Beam desgning using LSM\")\n",
    "#label*****************************************************************************\n",
    "user1 = Label(root, text=\"The value of clear span\")\n",
    "user2 = Label(root, text=\"The value of UDL\")\n",
    "user3 = Label(root, text=\"The value of concrete strength\")\n",
    "user4 = Label(root, text=\"The value of steel strength\")\n",
    "user5 = Label(root, text=\"Thickness of wall\")\n",
    "user6 = Label(root, text=\"The value of required breadth\")\n",
    "user7 = Label(root, text=\"The value of thickness of effective cover\")\n",
    "user8 = Label(root, text=\"Diameter of steel bar in mm\")\n",
    "user9 = Label(root, text=\"Diameter of stirrups bar in mm\")\n",
    "user10 = Label(root, text=\"Your Name\")\n",
    "user12 = Label(root, text = \"This program is created by Debayan Ghosh.\")\n",
    "user1.grid(row=0, column=0)\n",
    "user2.grid(row=1, column=0)\n",
    "user3.grid(row=2, column=0)\n",
    "user4.grid(row=3, column=0)\n",
    "user5.grid(row=4, column=0)\n",
    "user6.grid(row=5, column=0)\n",
    "user7.grid(row=6, column=0)\n",
    "user8.grid(row=7, column=0)\n",
    "user9.grid(row=8, column=0)\n",
    "user10.grid(row=9, column=0)\n",
    "user12.grid(row=17, column=0)\n",
    "\n",
    "# Variable classes in tkinter\n",
    "# BooleanVar, DoubleVar, IntVar, StringVar\n",
    "#bar********************************************************************************\n",
    "uservalue1 = DoubleVar()\n",
    "uservalue2 = DoubleVar()\n",
    "uservalue3 = DoubleVar()\n",
    "uservalue4 = DoubleVar()\n",
    "uservalue5 = DoubleVar()\n",
    "uservalue6 = DoubleVar()\n",
    "uservalue7 = DoubleVar()\n",
    "uservalue8 = DoubleVar()\n",
    "uservalue9 = DoubleVar()\n",
    "uservalue10 = StringVar()\n",
    "\n",
    "\n",
    "userentry1 = Entry(root, textvariable = uservalue1)\n",
    "userentry2 = Entry(root, textvariable = uservalue2)\n",
    "userentry3 = Entry(root, textvariable = uservalue3)\n",
    "userentry4 = Entry(root, textvariable = uservalue4)\n",
    "userentry5 = Entry(root, textvariable = uservalue5)\n",
    "userentry6 = Entry(root, textvariable = uservalue6)\n",
    "userentry7 = Entry(root, textvariable = uservalue7)\n",
    "userentry8 = Entry(root, textvariable = uservalue8)\n",
    "userentry9 = Entry(root, textvariable = uservalue9)\n",
    "userentry10 = Entry(root, textvariable = uservalue10)\n",
    "\n",
    "userentry1.grid(row=0, column=1)\n",
    "userentry2.grid(row=1, column=1)\n",
    "userentry3.grid(row=2, column=1)\n",
    "userentry4.grid(row=3, column=1)\n",
    "userentry5.grid(row=4, column=1)\n",
    "userentry6.grid(row=5, column=1)\n",
    "userentry7.grid(row=6, column=1)\n",
    "userentry8.grid(row=7, column=1)\n",
    "userentry9.grid(row=8, column=1)\n",
    "userentry10.grid(row=9, column=1)\n",
    "\n",
    "\n",
    "Button(text=\"Submit\", command=getvals).grid(row=12, column=1)\n",
    "\n",
    "root.mainloop()"
   ]
  },
  {
   "cell_type": "code",
   "execution_count": 25,
   "metadata": {},
   "outputs": [],
   "source": [
    "clearSpan = uservalue1.get()\n",
    "udl = uservalue2.get()\n",
    "Fck = uservalue3.get()\n",
    "Fy = uservalue4.get()\n",
    "bearing = uservalue5.get()\n",
    "breadth = uservalue6.get()\n",
    "effCov = uservalue7.get()\n",
    "barDia = uservalue8.get()\n",
    "stiDia = uservalue9.get()\n",
    "Name = uservalue10.get()\n"
   ]
  },
  {
   "cell_type": "code",
   "execution_count": 75,
   "metadata": {},
   "outputs": [
    {
     "data": {
      "text/plain": [
       "'\\nclearSpan = int(input(\"The value of clear span: \"))  #6000mm\\nudl = int(input(\"The value of UDL: \"))  #12\\nFck = int(input(\"The value of concrete strength: \"))  #20\\nFy = int(input(\"The value of steel strength: \"))  #415\\nbearing = int(input(\"Thickness of wall: \"))  #300\\nbreadth = int(input(\"The value of required breadth: \"))  #300\\neffCov = int(input(\"The value of thickness of effective cover: \"))  #30\\nbarDia = int(input(\"Diameter of steel bar in mm:\")) #20\\nstiDia = int(input(\"Diameter of stirrups bar in mm: \")) #8\\n'"
      ]
     },
     "execution_count": 75,
     "metadata": {},
     "output_type": "execute_result"
    }
   ],
   "source": [
    "'''\n",
    "clearSpan = int(input(\"The value of clear span: \"))  #6000mm\n",
    "udl = int(input(\"The value of UDL: \"))  #12\n",
    "Fck = int(input(\"The value of concrete strength: \"))  #20\n",
    "Fy = int(input(\"The value of steel strength: \"))  #415\n",
    "bearing = int(input(\"Thickness of wall: \"))  #300\n",
    "breadth = int(input(\"The value of required breadth: \"))  #300\n",
    "effCov = int(input(\"The value of thickness of effective cover: \"))  #30\n",
    "barDia = int(input(\"Diameter of steel bar in mm:\")) #20\n",
    "stiDia = int(input(\"Diameter of stirrups bar in mm: \")) #8\n",
    "'''"
   ]
  },
  {
   "cell_type": "code",
   "execution_count": 76,
   "metadata": {},
   "outputs": [
    {
     "data": {
      "text/plain": [
       "'\\nclearSpan = 6000\\nudl = 12\\nFck = 20\\nFy = 415\\nbearing = 300\\nbreadth = 300\\neffCov = 30\\nbarDia = 20\\nstiDia = 8\\n'"
      ]
     },
     "execution_count": 76,
     "metadata": {},
     "output_type": "execute_result"
    }
   ],
   "source": [
    "'''\n",
    "clearSpan = 6000\n",
    "udl = 12\n",
    "Fck = 20\n",
    "Fy = 415\n",
    "bearing = 300\n",
    "breadth = 300\n",
    "effCov = 30\n",
    "barDia = 20\n",
    "stiDia = 8\n",
    "'''"
   ]
  },
  {
   "cell_type": "code",
   "execution_count": 104,
   "metadata": {},
   "outputs": [
    {
     "name": "stdout",
     "output_type": "stream",
     "text": [
      "wellcome Debayan\n"
     ]
    }
   ],
   "source": [
    "print(\"Wellcome\",Name.capitalize())"
   ]
  },
  {
   "cell_type": "code",
   "execution_count": 77,
   "metadata": {},
   "outputs": [
    {
     "data": {
      "text/plain": [
       "22.8375"
      ]
     },
     "execution_count": 77,
     "metadata": {},
     "output_type": "execute_result"
    }
   ],
   "source": [
    "#for LSM span  / 15 = d\n",
    "effDep = clearSpan / 15\n",
    "toDep = effDep + effCov\n",
    "toDep\n",
    "selWtBeam = breadth * toDep * 25 / 10**6 # unit wt of conc 25 kn/m^3\n",
    "toUDL = selWtBeam + udl \n",
    "ultUDL = 1.5 * toUDL # for LSW Ultimate Load = 1.5 * Total load\n",
    "ultUDL"
   ]
  },
  {
   "cell_type": "code",
   "execution_count": 78,
   "metadata": {},
   "outputs": [
    {
     "data": {
      "text/plain": [
       "6.3"
      ]
     },
     "execution_count": 78,
     "metadata": {},
     "output_type": "execute_result"
    }
   ],
   "source": [
    "#Calculation of effective span\n",
    "effSp1 = clearSpan + effDep\n",
    "effSp2 = clearSpan + bearing\n",
    "#Lowest value will be the length of effective span\n",
    "if effSp1 <= effSp2:\n",
    "    effSp = effSp1/1000\n",
    "else:\n",
    "    effSp = effSp2/1000\n",
    "effSp"
   ]
  },
  {
   "cell_type": "code",
   "execution_count": 79,
   "metadata": {},
   "outputs": [
    {
     "data": {
      "text/plain": [
       "71.938125"
      ]
     },
     "execution_count": 79,
     "metadata": {},
     "output_type": "execute_result"
    }
   ],
   "source": [
    "#Shear force and Bending moment Calculation\n",
    "Mu = ultUDL * effSp**2 / 8\n",
    "SF = ultUDL * effSp / 2\n",
    "SF"
   ]
  },
  {
   "cell_type": "code",
   "execution_count": 80,
   "metadata": {},
   "outputs": [
    {
     "data": {
      "text/plain": [
       "132.48000000000002"
      ]
     },
     "execution_count": 80,
     "metadata": {},
     "output_type": "execute_result"
    }
   ],
   "source": [
    "#Req depth caculation fro FE415 steel.\n",
    "depReq = (Mu*10**6/0.138/Fck/breadth)**(1/2)\n",
    "depReq\n",
    "Mulim = 0.138 * Fck *  breadth/100 * (effDep/100)**2\n",
    "Mulim"
   ]
  },
  {
   "cell_type": "code",
   "execution_count": 81,
   "metadata": {},
   "outputs": [
    {
     "name": "stdout",
     "output_type": "stream",
     "text": [
      "Under Reinforced Section\n"
     ]
    }
   ],
   "source": [
    "if (effDep >= depReq and Mu <= Mulim):\n",
    "    print(\"Under Reinforced Section\")"
   ]
  },
  {
   "cell_type": "code",
   "execution_count": 82,
   "metadata": {},
   "outputs": [
    {
     "data": {
      "text/plain": [
       "936.6194720150481"
      ]
     },
     "execution_count": 82,
     "metadata": {},
     "output_type": "execute_result"
    }
   ],
   "source": [
    "#Calculation of area of steel\n",
    "Ast = (0.5 * Fck / Fy) * (1 - (1 - (4.6*Mu*10**6/(Fck * breadth * effDep**2)))**(1/2)) * breadth * effDep\n",
    "Ast"
   ]
  },
  {
   "cell_type": "code",
   "execution_count": 83,
   "metadata": {},
   "outputs": [
    {
     "data": {
      "text/plain": [
       "3"
      ]
     },
     "execution_count": 83,
     "metadata": {},
     "output_type": "execute_result"
    }
   ],
   "source": [
    "#using bar dia meter 20phi\n",
    "\n",
    "import math\n",
    "ast = math.pi * barDia**2 / 4\n",
    "ast\n",
    "noOfBar = Ast / ast\n",
    "noOfBarFinal = math.ceil(noOfBar)\n",
    "noOfBarFinal"
   ]
  },
  {
   "cell_type": "code",
   "execution_count": 84,
   "metadata": {},
   "outputs": [
    {
     "name": "stdout",
     "output_type": "stream",
     "text": [
      "Steel area is ok.\n"
     ]
    }
   ],
   "source": [
    "#actual steel areas\n",
    "actAst = noOfBarFinal * ast\n",
    "\n",
    "#min of Ast\n",
    "minAst = 0.85 * breadth * effDep / Fy\n",
    "\n",
    "#max of Ast\n",
    "maxAst = 0.04 * breadth * toDep\n",
    "\n",
    "#steel area checking\n",
    "if (actAst < maxAst and actAst > minAst ):\n",
    "    print(\"Steel area is ok.\")\n"
   ]
  },
  {
   "cell_type": "code",
   "execution_count": 85,
   "metadata": {},
   "outputs": [
    {
     "data": {
      "text/plain": [
       "0.7853981633974483"
      ]
     },
     "execution_count": 85,
     "metadata": {},
     "output_type": "execute_result"
    }
   ],
   "source": [
    "#Shear reinforced \n",
    "#Nominal Shear Stress\n",
    "Vu = SF\n",
    "nss = Vu * 10**3 / (breadth * effDep)\n",
    "nss\n",
    "# % of tension reinforcement\n",
    "p = actAst * 100 / (breadth * effDep)\n",
    "p"
   ]
  },
  {
   "cell_type": "code",
   "execution_count": 86,
   "metadata": {},
   "outputs": [],
   "source": [
    "### table19 value extraction"
   ]
  },
  {
   "cell_type": "code",
   "execution_count": 87,
   "metadata": {},
   "outputs": [
    {
     "data": {
      "text/html": [
       "<div>\n",
       "<style scoped>\n",
       "    .dataframe tbody tr th:only-of-type {\n",
       "        vertical-align: middle;\n",
       "    }\n",
       "\n",
       "    .dataframe tbody tr th {\n",
       "        vertical-align: top;\n",
       "    }\n",
       "\n",
       "    .dataframe thead th {\n",
       "        text-align: right;\n",
       "    }\n",
       "</style>\n",
       "<table border=\"1\" class=\"dataframe\">\n",
       "  <thead>\n",
       "    <tr style=\"text-align: right;\">\n",
       "      <th></th>\n",
       "      <th>p</th>\n",
       "      <th>M15</th>\n",
       "      <th>M20</th>\n",
       "      <th>M25</th>\n",
       "      <th>M30</th>\n",
       "      <th>M35</th>\n",
       "      <th>M40</th>\n",
       "    </tr>\n",
       "  </thead>\n",
       "  <tbody>\n",
       "    <tr>\n",
       "      <th>0</th>\n",
       "      <td>0.15</td>\n",
       "      <td>0.28</td>\n",
       "      <td>0.28</td>\n",
       "      <td>0.29</td>\n",
       "      <td>0.29</td>\n",
       "      <td>0.29</td>\n",
       "      <td>0.30</td>\n",
       "    </tr>\n",
       "    <tr>\n",
       "      <th>1</th>\n",
       "      <td>0.25</td>\n",
       "      <td>0.35</td>\n",
       "      <td>0.36</td>\n",
       "      <td>0.36</td>\n",
       "      <td>0.37</td>\n",
       "      <td>0.37</td>\n",
       "      <td>0.38</td>\n",
       "    </tr>\n",
       "    <tr>\n",
       "      <th>2</th>\n",
       "      <td>0.50</td>\n",
       "      <td>0.46</td>\n",
       "      <td>0.48</td>\n",
       "      <td>0.49</td>\n",
       "      <td>0.50</td>\n",
       "      <td>0.50</td>\n",
       "      <td>0.51</td>\n",
       "    </tr>\n",
       "    <tr>\n",
       "      <th>3</th>\n",
       "      <td>0.75</td>\n",
       "      <td>0.54</td>\n",
       "      <td>0.56</td>\n",
       "      <td>0.57</td>\n",
       "      <td>0.59</td>\n",
       "      <td>0.59</td>\n",
       "      <td>0.60</td>\n",
       "    </tr>\n",
       "    <tr>\n",
       "      <th>4</th>\n",
       "      <td>1.00</td>\n",
       "      <td>0.60</td>\n",
       "      <td>0.62</td>\n",
       "      <td>0.64</td>\n",
       "      <td>0.66</td>\n",
       "      <td>0.67</td>\n",
       "      <td>0.68</td>\n",
       "    </tr>\n",
       "    <tr>\n",
       "      <th>5</th>\n",
       "      <td>1.25</td>\n",
       "      <td>0.64</td>\n",
       "      <td>0.67</td>\n",
       "      <td>0.70</td>\n",
       "      <td>0.71</td>\n",
       "      <td>0.73</td>\n",
       "      <td>0.74</td>\n",
       "    </tr>\n",
       "    <tr>\n",
       "      <th>6</th>\n",
       "      <td>1.50</td>\n",
       "      <td>0.68</td>\n",
       "      <td>0.72</td>\n",
       "      <td>0.74</td>\n",
       "      <td>0.76</td>\n",
       "      <td>0.78</td>\n",
       "      <td>0.79</td>\n",
       "    </tr>\n",
       "    <tr>\n",
       "      <th>7</th>\n",
       "      <td>1.75</td>\n",
       "      <td>0.71</td>\n",
       "      <td>0.75</td>\n",
       "      <td>0.78</td>\n",
       "      <td>0.80</td>\n",
       "      <td>0.82</td>\n",
       "      <td>0.84</td>\n",
       "    </tr>\n",
       "    <tr>\n",
       "      <th>8</th>\n",
       "      <td>2.00</td>\n",
       "      <td>0.71</td>\n",
       "      <td>0.79</td>\n",
       "      <td>0.82</td>\n",
       "      <td>0.84</td>\n",
       "      <td>0.86</td>\n",
       "      <td>0.88</td>\n",
       "    </tr>\n",
       "    <tr>\n",
       "      <th>9</th>\n",
       "      <td>2.25</td>\n",
       "      <td>0.71</td>\n",
       "      <td>0.81</td>\n",
       "      <td>0.85</td>\n",
       "      <td>0.88</td>\n",
       "      <td>0.90</td>\n",
       "      <td>0.92</td>\n",
       "    </tr>\n",
       "    <tr>\n",
       "      <th>10</th>\n",
       "      <td>2.50</td>\n",
       "      <td>0.71</td>\n",
       "      <td>0.82</td>\n",
       "      <td>0.88</td>\n",
       "      <td>0.91</td>\n",
       "      <td>0.93</td>\n",
       "      <td>0.95</td>\n",
       "    </tr>\n",
       "    <tr>\n",
       "      <th>11</th>\n",
       "      <td>2.75</td>\n",
       "      <td>0.71</td>\n",
       "      <td>0.82</td>\n",
       "      <td>0.90</td>\n",
       "      <td>0.94</td>\n",
       "      <td>0.96</td>\n",
       "      <td>0.98</td>\n",
       "    </tr>\n",
       "    <tr>\n",
       "      <th>12</th>\n",
       "      <td>3.00</td>\n",
       "      <td>0.71</td>\n",
       "      <td>0.82</td>\n",
       "      <td>0.92</td>\n",
       "      <td>0.96</td>\n",
       "      <td>0.99</td>\n",
       "      <td>1.01</td>\n",
       "    </tr>\n",
       "    <tr>\n",
       "      <th>13</th>\n",
       "      <td>1000.00</td>\n",
       "      <td>0.71</td>\n",
       "      <td>0.82</td>\n",
       "      <td>0.92</td>\n",
       "      <td>0.96</td>\n",
       "      <td>0.99</td>\n",
       "      <td>1.01</td>\n",
       "    </tr>\n",
       "    <tr>\n",
       "      <th>14</th>\n",
       "      <td>NaN</td>\n",
       "      <td>NaN</td>\n",
       "      <td>NaN</td>\n",
       "      <td>NaN</td>\n",
       "      <td>NaN</td>\n",
       "      <td>NaN</td>\n",
       "      <td>NaN</td>\n",
       "    </tr>\n",
       "  </tbody>\n",
       "</table>\n",
       "</div>"
      ],
      "text/plain": [
       "          p   M15   M20   M25   M30   M35   M40\n",
       "0      0.15  0.28  0.28  0.29  0.29  0.29  0.30\n",
       "1      0.25  0.35  0.36  0.36  0.37  0.37  0.38\n",
       "2      0.50  0.46  0.48  0.49  0.50  0.50  0.51\n",
       "3      0.75  0.54  0.56  0.57  0.59  0.59  0.60\n",
       "4      1.00  0.60  0.62  0.64  0.66  0.67  0.68\n",
       "5      1.25  0.64  0.67  0.70  0.71  0.73  0.74\n",
       "6      1.50  0.68  0.72  0.74  0.76  0.78  0.79\n",
       "7      1.75  0.71  0.75  0.78  0.80  0.82  0.84\n",
       "8      2.00  0.71  0.79  0.82  0.84  0.86  0.88\n",
       "9      2.25  0.71  0.81  0.85  0.88  0.90  0.92\n",
       "10     2.50  0.71  0.82  0.88  0.91  0.93  0.95\n",
       "11     2.75  0.71  0.82  0.90  0.94  0.96  0.98\n",
       "12     3.00  0.71  0.82  0.92  0.96  0.99  1.01\n",
       "13  1000.00  0.71  0.82  0.92  0.96  0.99  1.01\n",
       "14      NaN   NaN   NaN   NaN   NaN   NaN   NaN"
      ]
     },
     "execution_count": 87,
     "metadata": {},
     "output_type": "execute_result"
    }
   ],
   "source": [
    "import pandas as pd\n",
    "df = pd.read_csv('table19.csv')\n",
    "df"
   ]
  },
  {
   "cell_type": "code",
   "execution_count": 88,
   "metadata": {},
   "outputs": [],
   "source": [
    "#import matplotlib.pyplot as plt\n",
    "#plt.plot(df.p, df.M15, 'b.-')\n",
    "#plt.show()"
   ]
  },
  {
   "cell_type": "code",
   "execution_count": 89,
   "metadata": {},
   "outputs": [
    {
     "name": "stdout",
     "output_type": "stream",
     "text": [
      "3\n"
     ]
    },
    {
     "data": {
      "text/plain": [
       "0.5684955592153876"
      ]
     },
     "execution_count": 89,
     "metadata": {},
     "output_type": "execute_result"
    }
   ],
   "source": [
    "a = []\n",
    "m = []\n",
    "i = 0\n",
    "a = df['p']\n",
    "if Fck == 15:\n",
    "    m = df['M15']\n",
    "elif Fck == 20:\n",
    "    m = df['M20']\n",
    "elif Fck == 25:\n",
    "    m = df['M25']\n",
    "elif Fck == 30:\n",
    "    m = df['M30']\n",
    "elif Fck == 35:\n",
    "    m = df['M35']\n",
    "elif Fck == 40:\n",
    "    m = df['M40']\n",
    "\n",
    "while(p>=a[i]):\n",
    "    q = i\n",
    "    i = i + 1\n",
    "else:\n",
    "    print(q)\n",
    "    \n",
    "a[q+1]\n",
    "var1 = (p - a[q])*(m[q+1] - m[q])\n",
    "taoC = m[q] + (var1/(a[q+1] - a[q]))\n",
    "taoC"
   ]
  },
  {
   "cell_type": "code",
   "execution_count": 90,
   "metadata": {},
   "outputs": [
    {
     "name": "stdout",
     "output_type": "stream",
     "text": [
      "we need to provide vertical strups\n"
     ]
    }
   ],
   "source": [
    "#algorithm for table 19 is456:2000 for calcuation design shear strength\n",
    "#Interpolation method\n",
    "#taoC = 0.5685\n",
    "if nss>taoC:\n",
    "    print(\"we need to provide vertical strups\")"
   ]
  },
  {
   "cell_type": "code",
   "execution_count": 91,
   "metadata": {},
   "outputs": [
    {
     "data": {
      "text/plain": [
       "3.7186578941534805"
      ]
     },
     "execution_count": 91,
     "metadata": {},
     "output_type": "execute_result"
    }
   ],
   "source": [
    "#Shear resistance by the concrete\n",
    "Vuc = taoC * breadth * effDep / 10**3\n",
    "Vuc\n",
    "#sherups carried by stirrups\n",
    "Vus = Vu - Vuc\n",
    "Vus"
   ]
  },
  {
   "cell_type": "code",
   "execution_count": 92,
   "metadata": {},
   "outputs": [
    {
     "data": {
      "text/plain": [
       "100.53096491487338"
      ]
     },
     "execution_count": 92,
     "metadata": {},
     "output_type": "execute_result"
    }
   ],
   "source": [
    "#stirrups 2LVS 8mm phi bar\n",
    "\n",
    "stiAsv = math.pi * stiDia**2 * 2 / 4\n",
    "stiAsv\n"
   ]
  },
  {
   "cell_type": "code",
   "execution_count": 93,
   "metadata": {},
   "outputs": [
    {
     "name": "stdout",
     "output_type": "stream",
     "text": [
      "3904.2800833689125 302.47254068762527 300.0\n",
      "provide 8mm phi 2LVS @ 300 mm c/c\n"
     ]
    }
   ],
   "source": [
    "#spacing  Vus = 0.87 * Fy * Asv * effDep / Sv\n",
    "Sv1 = 0.87 * Fy * stiAsv * effDep / Vus / 10**3\n",
    "Sv2 = stiAsv *0.87 *Fy / 0.4 / breadth\n",
    "Sv2\n",
    "Sv3 = 0.75 * effDep\n",
    "Sv3\n",
    "# checkign for spacing\n",
    "print(Sv1,Sv2,Sv3)\n",
    "print(\"provide 8mm phi 2LVS @ 300 mm c/c\")"
   ]
  },
  {
   "cell_type": "code",
   "execution_count": 94,
   "metadata": {},
   "outputs": [
    {
     "name": "stdout",
     "output_type": "stream",
     "text": [
      "The length of clear span:   6000.0\n",
      "Effective clear cover: 30.0\n",
      "Total Depth of the beam(with clear cover): 430.0\n",
      "Total Breadth of the beam 300.0\n",
      "concrete M 20.0\n",
      "Steel Fe 415.0\n",
      "Self weight of the beam 3.225\n",
      "Total uniformly distributed load on the beam including self wt. is  15.225\n",
      "Ultimate UDL after applyiny safety factor 1.5 is 22.8375\n",
      "The effective length of the beam 6.3\n",
      "Beading moment on the both end of the beam 113.30254687499999\n",
      "Shear Force of the beam 71.938125\n",
      "Now depth checking.\n",
      "Required depth of the beam 369.91732147638186\n",
      "Provided depth of the beam 400.0\n",
      "so...\n",
      "Maximum moment can be taken by the beam 132.48000000000002\n",
      "Bendign moment generate  113.30254687499999\n",
      "so ..\n",
      "Area of the steel required 936.6194720150481\n",
      "Provide 3  -  20.0 mm phi @ tension side.\n",
      "So, the area of the steel will be 942.4777960769379\n",
      "Minimum and Maximum steel required in tension side 245.78313253012047 and 5160.0\n",
      "so..\n",
      "Nominal shear stress 0.599484375\n",
      "Persentage of nominal reinforcement 0.7853981633974483\n",
      "From IS456:2000 tablw 19 critical shear will be 0.5684955592153876\n",
      "As the critical shear is less than nominal shear so, we will provide vertical stirrups.\n",
      "Shear resistance of concrete 68.21946710584652\n",
      "Shear carried by the stirrups 3.7186578941534805\n",
      "Some spacing values for providing stirrups 3904.2800833689125 302.47254068762527 300.0\n",
      "So, provide  8.0  mm phi 2LVS @ 300mm c/c.\n"
     ]
    }
   ],
   "source": [
    "#Result Output\n",
    "\n",
    "print(\"The length of clear span:  \",clearSpan)\n",
    "print(\"Effective clear cover:\",effCov)\n",
    "print(\"Total Depth of the beam(with clear cover):\",toDep)\n",
    "print(\"Total Breadth of the beam\",breadth)\n",
    "print(\"concrete M\",Fck)\n",
    "print(\"Steel Fe\",Fy)\n",
    "print(\"Self weight of the beam\",selWtBeam)\n",
    "print(\"Total uniformly distributed load on the beam including self wt. is \",toUDL)\n",
    "print(\"Ultimate UDL after applyiny safety factor 1.5 is\",ultUDL)\n",
    "print(\"The effective length of the beam\",effSp)\n",
    "print(\"Beading moment on the both end of the beam\",Mu)\n",
    "print(\"Shear Force of the beam\",SF)\n",
    "\n",
    "print(\"Now depth checking.\")\n",
    "print(\"Required depth of the beam\",depReq)\n",
    "print(\"Provided depth of the beam\",effDep)\n",
    "print(\"so...\")\n",
    "\n",
    "print(\"Maximum moment can be taken by the beam\",Mulim)\n",
    "print(\"Bendign moment generate \",Mu)\n",
    "print(\"so ..\")\n",
    "\n",
    "print(\"Area of the steel required\",Ast)\n",
    "print(\"Provide\", noOfBarFinal,\" - \" ,barDia   , \"mm phi @ tension side.\")\n",
    "print(\"So, the area of the steel will be\",actAst)\n",
    "print(\"Minimum and Maximum steel required in tension side\",minAst,\"and\",maxAst)\n",
    "print(\"so..\")\n",
    "\n",
    "print(\"Nominal shear stress\",nss)\n",
    "print(\"Persentage of nominal reinforcement\",p)\n",
    "print(\"From IS456:2000 tablw 19 critical shear will be\",taoC)\n",
    "print(\"As the critical shear is less than nominal shear so, we will provide vertical stirrups.\")\n",
    "print(\"Shear resistance of concrete\",Vuc)\n",
    "print(\"Shear carried by the stirrups\",Vus)\n",
    "print(\"Some spacing values for providing stirrups\",Sv1,Sv2,Sv3)\n",
    "print(\"So, provide \", stiDia ,\" mm phi 2LVS @ 300mm c/c.\")"
   ]
  },
  {
   "cell_type": "code",
   "execution_count": 95,
   "metadata": {},
   "outputs": [],
   "source": [
    "#File Input\n",
    "f = open(\"LSW.rtf\", \"a\")\n",
    "f.write(\"\\nThe length of clear span: %d \"%clearSpan)\n",
    "f.write(\"\\nEffective clear cover:%d \"%effCov)\n",
    "f.write(\"\\nTotal Depth of the beam(with clear cover):%d \"%toDep)\n",
    "f.write(\"\\nTotal Breadth of the beam %d \"%breadth)\n",
    "f.write(\"\\nconcrete M%d \"%Fck)\n",
    "f.write(\"\\nSteel Fe%d \"%Fy)\n",
    "f.write(\"\\nSelf weight of the beam %d \"%selWtBeam)\n",
    "f.write(\"\\nTotal uniformly distributed load on the beam including self wt. is %d \"%toUDL)\n",
    "f.write(\"\\nUltimate UDL after applyiny safety factor 1.5 is %d \"%ultUDL)\n",
    "f.write(\"\\nThe effective length of the beam %d \"%effSp)\n",
    "f.write(\"\\nBeading moment on the both end of the beam %d \"%Mu)\n",
    "f.write(\"\\nShear Force of the beam %d \"%SF)\n",
    "\n",
    "f.write(\"\\nNow depth checking.\")\n",
    "f.write(\"\\nRequired depth of the beam %d \"%depReq)\n",
    "f.write(\"\\nProvided depth of the beam %d \"%effDep)\n",
    "f.write(\"\\nso...\")\n",
    "\n",
    "f.write(\"\\nMaximum moment can be taken by the beam %d \"%Mulim)\n",
    "f.write(\"\\nBendign moment generate %d \"%Mu)\n",
    "f.write(\"\\nso ..\")\n",
    "\n",
    "f.write(\"\\nArea of the steel required %d \"%Ast)\n",
    "\n",
    "f.write(\"\\nProvide \" )\n",
    "f.write(\"%d \" %noOfBarFinal )\n",
    "f.write(\" - \")\n",
    "f.write(\"%d\"%barDia)\n",
    "f.write(\"mm phi @ tension side.\")\n",
    "\n",
    "f.write(\"\\nSo, the area of the steel will be %d \"%actAst)\n",
    "\n",
    "f.write(\"\\nMinimum and Maximum steel required in tension side \")\n",
    "f.write(\"%d\" %minAst)\n",
    "f.write(\"and %d \"%maxAst)\n",
    "\n",
    "\n",
    "f.write(\"\\nso..\")\n",
    "\n",
    "\n",
    "f.write(\"\\nNominal shear stress %d \"%nss)\n",
    "f.write(\"\\nPersentage of nominal reinforcement %d \"%p)\n",
    "f.write(\"\\nFrom IS456:2000 tablw 19 critical shear will be %d \"%taoC)\n",
    "f.write(\"\\nAs the critical shear is less than nominal shear so, we will provide vertical stirrups.\")\n",
    "f.write(\"\\nShear resistance of concrete %d \"%Vuc)\n",
    "f.write(\"\\nShear carried by the stirrups %d \"%Vus)\n",
    "\n",
    "f.write(\"\\nSome spacing values for providing stirrups %ls, \"%Sv1)\n",
    "f.write(\" %ls, \"%Sv2 )\n",
    "f.write(\" %ls \" %Sv3)\n",
    "\n",
    "f.write(\"\\nSo, provide \") \n",
    "f.write(\"%d\" %stiDia)\n",
    "f.write(\" mm phi 2LVS @ 300mm c/c.\")\n",
    "f.write(\"\\n\")\n",
    "f.write(\"\\n\")\n",
    "f.close()"
   ]
  },
  {
   "cell_type": "code",
   "execution_count": 99,
   "metadata": {},
   "outputs": [
    {
     "ename": "TclError",
     "evalue": "can't invoke \"wm\" command: application has been destroyed",
     "output_type": "error",
     "traceback": [
      "\u001b[1;31m---------------------------------------------------------------------------\u001b[0m",
      "\u001b[1;31mTclError\u001b[0m                                  Traceback (most recent call last)",
      "\u001b[1;32m<ipython-input-99-db9c3cc816fd>\u001b[0m in \u001b[0;36m<module>\u001b[1;34m\u001b[0m\n\u001b[0;32m      2\u001b[0m \u001b[1;33m\u001b[0m\u001b[0m\n\u001b[0;32m      3\u001b[0m \u001b[0mtop\u001b[0m \u001b[1;33m=\u001b[0m \u001b[0mTk\u001b[0m\u001b[1;33m(\u001b[0m\u001b[1;33m)\u001b[0m\u001b[1;33m\u001b[0m\u001b[1;33m\u001b[0m\u001b[0m\n\u001b[1;32m----> 4\u001b[1;33m \u001b[0mroot\u001b[0m\u001b[1;33m.\u001b[0m\u001b[0mgeometry\u001b[0m\u001b[1;33m(\u001b[0m\u001b[1;34m\"655x333\"\u001b[0m\u001b[1;33m)\u001b[0m\u001b[1;33m\u001b[0m\u001b[1;33m\u001b[0m\u001b[0m\n\u001b[0m\u001b[0;32m      5\u001b[0m \u001b[0mL1\u001b[0m \u001b[1;33m=\u001b[0m \u001b[0mLabel\u001b[0m\u001b[1;33m(\u001b[0m\u001b[0mtop\u001b[0m\u001b[1;33m,\u001b[0m \u001b[0mtext\u001b[0m\u001b[1;33m=\u001b[0m\u001b[1;34m\"User Name\"\u001b[0m\u001b[1;33m)\u001b[0m\u001b[1;33m\u001b[0m\u001b[1;33m\u001b[0m\u001b[0m\n\u001b[0;32m      6\u001b[0m \u001b[0mL1\u001b[0m\u001b[1;33m.\u001b[0m\u001b[0mpack\u001b[0m\u001b[1;33m(\u001b[0m \u001b[0mside\u001b[0m \u001b[1;33m=\u001b[0m \u001b[0mLEFT\u001b[0m\u001b[1;33m)\u001b[0m\u001b[1;33m\u001b[0m\u001b[1;33m\u001b[0m\u001b[0m\n",
      "\u001b[1;32m~\\miniconda3\\envs\\py38\\lib\\tkinter\\__init__.py\u001b[0m in \u001b[0;36mwm_geometry\u001b[1;34m(self, newGeometry)\u001b[0m\n\u001b[0;32m   2033\u001b[0m         \"\"\"Set geometry to NEWGEOMETRY of the form =widthxheight+x+y. Return\n\u001b[0;32m   2034\u001b[0m         current value if None is given.\"\"\"\n\u001b[1;32m-> 2035\u001b[1;33m         \u001b[1;32mreturn\u001b[0m \u001b[0mself\u001b[0m\u001b[1;33m.\u001b[0m\u001b[0mtk\u001b[0m\u001b[1;33m.\u001b[0m\u001b[0mcall\u001b[0m\u001b[1;33m(\u001b[0m\u001b[1;34m'wm'\u001b[0m\u001b[1;33m,\u001b[0m \u001b[1;34m'geometry'\u001b[0m\u001b[1;33m,\u001b[0m \u001b[0mself\u001b[0m\u001b[1;33m.\u001b[0m\u001b[0m_w\u001b[0m\u001b[1;33m,\u001b[0m \u001b[0mnewGeometry\u001b[0m\u001b[1;33m)\u001b[0m\u001b[1;33m\u001b[0m\u001b[1;33m\u001b[0m\u001b[0m\n\u001b[0m\u001b[0;32m   2036\u001b[0m \u001b[1;33m\u001b[0m\u001b[0m\n\u001b[0;32m   2037\u001b[0m     \u001b[0mgeometry\u001b[0m \u001b[1;33m=\u001b[0m \u001b[0mwm_geometry\u001b[0m\u001b[1;33m\u001b[0m\u001b[1;33m\u001b[0m\u001b[0m\n",
      "\u001b[1;31mTclError\u001b[0m: can't invoke \"wm\" command: application has been destroyed"
     ]
    }
   ],
   "source": [
    "from tkinter import *\n",
    "\n",
    "top = Tk()\n",
    "\n",
    "L1 = Label(top, text=\"User Name\")\n",
    "L1.pack( side = LEFT)\n",
    "E1 = Entry(top, bd =5)\n",
    "E1.pack(side = RIGHT)\n",
    "\n",
    "top.mainloop()"
   ]
  },
  {
   "cell_type": "code",
   "execution_count": null,
   "metadata": {},
   "outputs": [],
   "source": [
    "from tkinter import *\n",
    "\n",
    "def getvals():\n",
    "    a1 = uservalue\n",
    "    a2 = passvalue.get()\n",
    "\n",
    "\n",
    "root = Tk()\n",
    "root.geometry(\"655x333\")\n",
    "\n",
    "user = Label(root, text=\"Username\")\n",
    "password = Label(root, text=\"Password\")\n",
    "user.grid()\n",
    "password.grid(row=1)\n",
    "\n",
    "# Variable classes in tkinter\n",
    "# BooleanVar, DoubleVar, IntVar, StringVar\n",
    "\n",
    "uservalue = StringVar()\n",
    "passvalue = StringVar()\n",
    "\n",
    "userentry = Entry(root, textvariable = uservalue)\n",
    "passentry = Entry(root, textvariable = passvalue)\n",
    "\n",
    "userentry.grid(row=0, column=1)\n",
    "passentry.grid(row=1, column=1)\n",
    "\n",
    "Button(text=\"Submit\", command= getvals ).grid()\n",
    "\n",
    "root.mainloop()\n",
    "print(a2)"
   ]
  },
  {
   "cell_type": "code",
   "execution_count": 6,
   "metadata": {},
   "outputs": [
    {
     "ename": "ValueError",
     "evalue": "operands could not be broadcast together with shapes (4,) (3,) ",
     "output_type": "error",
     "traceback": [
      "\u001b[1;31m---------------------------------------------------------------------------\u001b[0m",
      "\u001b[1;31mValueError\u001b[0m                                Traceback (most recent call last)",
      "\u001b[1;32m<ipython-input-6-6f41b3013b3c>\u001b[0m in \u001b[0;36m<module>\u001b[1;34m\u001b[0m\n\u001b[0;32m      4\u001b[0m \u001b[0mb\u001b[0m \u001b[1;33m=\u001b[0m \u001b[0mnp\u001b[0m\u001b[1;33m.\u001b[0m\u001b[0marray\u001b[0m\u001b[1;33m(\u001b[0m\u001b[1;33m[\u001b[0m\u001b[1;36m90\u001b[0m\u001b[1;33m,\u001b[0m \u001b[1;36m50\u001b[0m\u001b[1;33m,\u001b[0m \u001b[1;36m0\u001b[0m\u001b[1;33m]\u001b[0m\u001b[1;33m)\u001b[0m\u001b[1;33m\u001b[0m\u001b[1;33m\u001b[0m\u001b[0m\n\u001b[0;32m      5\u001b[0m \u001b[1;33m\u001b[0m\u001b[0m\n\u001b[1;32m----> 6\u001b[1;33m \u001b[0mc\u001b[0m \u001b[1;33m=\u001b[0m \u001b[0ma\u001b[0m \u001b[1;33m*\u001b[0m \u001b[0mb\u001b[0m\u001b[1;33m\u001b[0m\u001b[1;33m\u001b[0m\u001b[0m\n\u001b[0m\u001b[0;32m      7\u001b[0m \u001b[0mprint\u001b[0m \u001b[1;33m(\u001b[0m\u001b[0mc\u001b[0m\u001b[1;33m)\u001b[0m\u001b[1;33m\u001b[0m\u001b[1;33m\u001b[0m\u001b[0m\n",
      "\u001b[1;31mValueError\u001b[0m: operands could not be broadcast together with shapes (4,) (3,) "
     ]
    }
   ],
   "source": [
    "import numpy as np \n",
    "\n",
    "a = np.array([5, 7, 3, 1])\n",
    "b = np.array([90, 50, 0]) \n",
    "\n",
    "c = a * b\n",
    "print (c)"
   ]
  },
  {
   "cell_type": "code",
   "execution_count": null,
   "metadata": {},
   "outputs": [],
   "source": []
  }
 ],
 "metadata": {
  "kernelspec": {
   "display_name": "Python 3",
   "language": "python",
   "name": "python3"
  },
  "language_info": {
   "codemirror_mode": {
    "name": "ipython",
    "version": 3
   },
   "file_extension": ".py",
   "mimetype": "text/x-python",
   "name": "python",
   "nbconvert_exporter": "python",
   "pygments_lexer": "ipython3",
   "version": "3.8.5"
  }
 },
 "nbformat": 4,
 "nbformat_minor": 4
}
